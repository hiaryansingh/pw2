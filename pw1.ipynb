{
 "cells": [
  {
   "cell_type": "markdown",
   "id": "344a688f-630f-4919-9404-4f95d396f0a8",
   "metadata": {},
   "source": [
    "Which keyword is used to create a function? Create a function to return a list of odd numbers in the\n",
    "range of 1 to 25."
   ]
  },
  {
   "cell_type": "code",
   "execution_count": null,
   "id": "605f7e54-dc68-4885-9001-db4648ebd42b",
   "metadata": {},
   "outputs": [],
   "source": [
    "def is used to create a function"
   ]
  },
  {
   "cell_type": "code",
   "execution_count": 22,
   "id": "42e46ed5-3ff6-410c-81e6-2175a0d47e2e",
   "metadata": {},
   "outputs": [
    {
     "data": {
      "text/plain": [
       "[1, 3, 5, 7, 9, 11, 13, 15, 17, 19, 21, 23, 25]"
      ]
     },
     "execution_count": 22,
     "metadata": {},
     "output_type": "execute_result"
    }
   ],
   "source": [
    "def odd1():\n",
    "    l1=[]\n",
    "    \n",
    "    for i in range(1,26):\n",
    "        if i%2 !=0:\n",
    "            l1.append(i)\n",
    "    return l1\n",
    "odd1()"
   ]
  },
  {
   "cell_type": "markdown",
   "id": "cdbd99f4-0851-4c99-9762-f1f5e1b0ea9c",
   "metadata": {},
   "source": [
    "Q2. Why *args and **kwargs is used in some functions? Create a function each for *args and **kwargs\n",
    "to demonstrate their use."
   ]
  },
  {
   "cell_type": "code",
   "execution_count": 24,
   "id": "e7600c3d-d573-4758-b3b1-c03f5ecf8986",
   "metadata": {},
   "outputs": [
    {
     "data": {
      "text/plain": [
       "(1, 2, 1.2, [1, 2, 3], 'abc', 1, 2, 1.2, [1, 2, 3], 'abc')"
      ]
     },
     "execution_count": 24,
     "metadata": {},
     "output_type": "execute_result"
    }
   ],
   "source": [
    "##*args- It is used to create 'n' number of input and it can have differnt data types.\n",
    "def abc(*args):\n",
    "    return args \n",
    "abc(1,2,1.2,[1,2,3],'abc')"
   ]
  },
  {
   "cell_type": "code",
   "execution_count": 27,
   "id": "96d45e44-f5b7-4289-b83d-e69d44a79fa8",
   "metadata": {},
   "outputs": [
    {
     "data": {
      "text/plain": [
       "{'a': [1, 2], 'b': 'aryan', 'c': 19}"
      ]
     },
     "execution_count": 27,
     "metadata": {},
     "output_type": "execute_result"
    }
   ],
   "source": [
    "##**kwargs-It is used to create 'n' number of key value pairs.\n",
    "def xyz(**kwargs):\n",
    "    return kwargs\n",
    "xyz(a=[1,2],b='aryan',c=19)"
   ]
  },
  {
   "cell_type": "code",
   "execution_count": null,
   "id": "45389e80-770f-4ea2-b606-e19faacfc985",
   "metadata": {},
   "outputs": [],
   "source": [
    "Q3. What is an iterator in python? Name the method used to initialise the iterator object and the method\n",
    "used for iteration. Use these methods to print the first five elements of the given list [2, 4, 6, 8, 10, 12, 14,\n",
    "16, 18, 20]."
   ]
  },
  {
   "cell_type": "code",
   "execution_count": 17,
   "id": "1574d347-caa0-4e6c-9900-f1a03f19af54",
   "metadata": {},
   "outputs": [
    {
     "name": "stdout",
     "output_type": "stream",
     "text": [
      "2\n",
      "4\n",
      "6\n",
      "8\n",
      "10\n"
     ]
    }
   ],
   "source": [
    "#ITERATOR--Memorary allocation will not happen all at once but it will allocate memory one by one when we call next().\n",
    "#iter() is used to initialise the iterator object and next() is used for iteration\n",
    "l=[2, 4, 6, 8, 10, 12, 14,16,18,20]\n",
    "\n",
    "s=iter(l)\n",
    "for i in range(5):\n",
    "    print(next(s))\n",
    "    \n",
    "\n",
    "    \n",
    "  \n",
    "   \n"
   ]
  },
  {
   "cell_type": "code",
   "execution_count": 18,
   "id": "80367c7b-10c3-4327-9288-bc00f273659f",
   "metadata": {},
   "outputs": [
    {
     "name": "stdout",
     "output_type": "stream",
     "text": [
      "0\n",
      "1\n",
      "1\n",
      "2\n",
      "3\n",
      "5\n",
      "8\n",
      "13\n",
      "21\n",
      "34\n"
     ]
    }
   ],
   "source": [
    "#Q4. What is a generator function in python? Why yield keyword is used? Give an example of a generator\n",
    "#function.\n",
    "#GENERATOR--Whenever we use yield it is a generator function and it saves memory.Rather than storing the data in list it will give one by one output.\n",
    "#YIELD is used to throw the data\n",
    "def test_fib(n):\n",
    "    a,b=0,1\n",
    "    for i in range(n):\n",
    "        yield a\n",
    "        a,b=b,a+b\n",
    "for i in test_fib(10):\n",
    "    print(i)"
   ]
  },
  {
   "cell_type": "markdown",
   "id": "96f3f315-2543-45f8-b5fe-e12d9285f25f",
   "metadata": {},
   "source": [
    "#Q5. Create a generator function for prime numbers less than 1000. Use the next() method to print the\n",
    "#first 20 prime numbers.\n",
    "def prime1(n):\n",
    "    i=[]\n",
    "    for i in range(n):\n",
    "        if i%2 !=0 or i%3 !=0:\n",
    "            yield i\n",
    "for i in prime1(999):\n",
    "    print(i)\n",
    "            "
   ]
  },
  {
   "cell_type": "code",
   "execution_count": 23,
   "id": "8636b0dd-cdb9-4303-8e03-ff95656b1f60",
   "metadata": {},
   "outputs": [
    {
     "name": "stdout",
     "output_type": "stream",
     "text": [
      "1\n",
      "1\n",
      "2\n",
      "3\n",
      "5\n",
      "8\n",
      "13\n",
      "21\n",
      "34\n",
      "55\n",
      "89\n"
     ]
    }
   ],
   "source": [
    "#Q6. Write a python program to print the first 10 Fibonacci numbers using a while loop.\n",
    "a,b=0,1\n",
    "n=0\n",
    "while n<=10:\n",
    "    a,b=b,a+b\n",
    "    print(a)\n",
    "    n=n+1\n"
   ]
  },
  {
   "cell_type": "code",
   "execution_count": 24,
   "id": "a8e18e14-0f6f-4bd7-91b9-f8fc10ee6997",
   "metadata": {},
   "outputs": [
    {
     "data": {
      "text/plain": [
       "['p', 'w', 's', 'k', 'i', 'l', 'l', 's']"
      ]
     },
     "execution_count": 24,
     "metadata": {},
     "output_type": "execute_result"
    }
   ],
   "source": [
    "#Q7. Write a List Comprehension to iterate through the given string: ‘pwskills’.\n",
    "#Expected output: ['p', 'w', 's', 'k', 'i', 'l', 'l', 's']\n",
    "l=\"pwskills\"\n",
    "[i for i in l]\n"
   ]
  },
  {
   "cell_type": "code",
   "execution_count": 29,
   "id": "72c92c36-61a2-48f3-8ccb-fcf2a669d3c7",
   "metadata": {},
   "outputs": [
    {
     "name": "stdin",
     "output_type": "stream",
     "text": [
      "Enter a number: 121\n"
     ]
    },
    {
     "name": "stdout",
     "output_type": "stream",
     "text": [
      "The number is palindrome!\n"
     ]
    }
   ],
   "source": [
    "#Q8. Write a python program to check whether a given number is Palindrome or not using a while loop.\n",
    "\n",
    "num=int(input(\"Enter a number:\"))\n",
    "temp=num\n",
    "rev=0\n",
    "while(num>0):\n",
    "    dig=num%10\n",
    "    rev=rev*10+dig\n",
    "    num=num//10\n",
    "if(temp==rev):\n",
    "    print(\"The number is palindrome!\")\n",
    "else:\n",
    "    print(\"Not a palindrome!\")\n",
    "      \n",
    "\n"
   ]
  },
  {
   "cell_type": "code",
   "execution_count": 39,
   "id": "57788b36-8893-448e-bda6-df2eb57a3c0b",
   "metadata": {},
   "outputs": [
    {
     "name": "stdout",
     "output_type": "stream",
     "text": [
      "[3, 6, 9, 12, 15, 18, 21, 24, 27, 30, 33, 36, 39, 42, 45, 48, 51, 54, 57, 60, 63, 66, 69, 72, 75, 78, 81, 84, 87, 90, 93, 96, 99]\n"
     ]
    }
   ],
   "source": [
    "#Write a code to print odd numbers from 1 to 100 using list comprehension.\n",
    "a=[i for i in range(1,101)]\n",
    "odd_num=[num for num in a if num%3 ==0]\n",
    "print(odd_num)"
   ]
  }
 ],
 "metadata": {
  "kernelspec": {
   "display_name": "Python 3 (ipykernel)",
   "language": "python",
   "name": "python3"
  },
  "language_info": {
   "codemirror_mode": {
    "name": "ipython",
    "version": 3
   },
   "file_extension": ".py",
   "mimetype": "text/x-python",
   "name": "python",
   "nbconvert_exporter": "python",
   "pygments_lexer": "ipython3",
   "version": "3.10.8"
  }
 },
 "nbformat": 4,
 "nbformat_minor": 5
}
